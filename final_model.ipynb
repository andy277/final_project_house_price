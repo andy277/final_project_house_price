{
 "cells": [
  {
   "cell_type": "code",
   "id": "initial_id",
   "metadata": {
    "collapsed": true,
    "ExecuteTime": {
     "end_time": "2025-02-22T01:52:19.064899Z",
     "start_time": "2025-02-22T01:52:19.055904Z"
    }
   },
   "source": [
    "import pandas as pd\n",
    "from sklearn.model_selection import train_test_split\n",
    "from sklearn.linear_model import LinearRegression\n",
    "from sklearn.metrics import mean_squared_error, r2_score"
   ],
   "outputs": [],
   "execution_count": 29
  },
  {
   "metadata": {
    "ExecuteTime": {
     "end_time": "2025-02-22T01:52:19.116522Z",
     "start_time": "2025-02-22T01:52:19.107480Z"
    }
   },
   "cell_type": "code",
   "source": [
    "file_path = \"house_price.csv\"\n",
    "\n",
    "df = pd.read_csv(file_path, index_col=0)\n",
    "df.reset_index(inplace=True)"
   ],
   "id": "e70705b445abeeba",
   "outputs": [],
   "execution_count": 30
  },
  {
   "metadata": {
    "ExecuteTime": {
     "end_time": "2025-02-22T01:52:19.136688Z",
     "start_time": "2025-02-22T01:52:19.127576Z"
    }
   },
   "cell_type": "code",
   "source": [
    "df[\"SalePrice\"] = df[\"SalePrice\"].str.replace(\"$\", \"\")\n",
    "df[\"SalePrice\"] = df[\"SalePrice\"].str.replace(\",\", \"\").astype(float)\n",
    "\n",
    "df[\"LotAreaSqft\"] = df[\"LotAreaSqft\"].str.replace(\",\", \"\").astype(float)\n",
    "df[\"FinishedFloorTotalSqft\"] = df[\"FinishedFloorTotalSqft\"].str.replace(\",\", \"\").astype(float)"
   ],
   "id": "e3c1ccc92fbedca4",
   "outputs": [],
   "execution_count": 31
  },
  {
   "metadata": {
    "ExecuteTime": {
     "end_time": "2025-02-22T01:52:19.161384Z",
     "start_time": "2025-02-22T01:52:19.154984Z"
    }
   },
   "cell_type": "code",
   "source": [
    "## Drop unnecessary columns\n",
    "X = df.drop(columns=[\"HouseType\",\"Suite\", \"Basement\", \"SoldDate\", \"PostalCode\", \"DistToSchoolBus\", \"DistToTransit\", \"FloodPlain\", \"View\", \"Zoning\", \"Parking\", \"Address\", \"DepthSizeFt\", \"GrossTaxes\", \"SalePrice\"])\n",
    "\n",
    "y = df[\"SalePrice\"]\n"
   ],
   "id": "7246e6302e4b7432",
   "outputs": [],
   "execution_count": 32
  },
  {
   "metadata": {
    "ExecuteTime": {
     "end_time": "2025-02-22T01:52:19.221502Z",
     "start_time": "2025-02-22T01:52:19.211861Z"
    }
   },
   "cell_type": "code",
   "source": "X_train, X_test, y_train, y_test = train_test_split(X, y, test_size=0.2, random_state=64)",
   "id": "e93d9cf7f1f4b8be",
   "outputs": [],
   "execution_count": 33
  },
  {
   "metadata": {
    "ExecuteTime": {
     "end_time": "2025-02-22T01:52:19.265273Z",
     "start_time": "2025-02-22T01:52:19.255644Z"
    }
   },
   "cell_type": "code",
   "source": [
    "model = LinearRegression()\n",
    "model.fit(X_train, y_train)\n",
    "\n",
    "y_pred = model.predict(X_test)\n"
   ],
   "id": "c286d0143f359fd",
   "outputs": [],
   "execution_count": 34
  },
  {
   "metadata": {
    "ExecuteTime": {
     "end_time": "2025-02-22T01:52:19.304867Z",
     "start_time": "2025-02-22T01:52:19.295591Z"
    }
   },
   "cell_type": "code",
   "source": [
    "mse = mean_squared_error(y_test, y_pred)\n",
    "r2 = r2_score(y_test, y_pred)\n",
    "print(f'Mean Squared Error: {mse}')\n",
    "print(f'R^2 Score: {r2}')"
   ],
   "id": "94b71dbb1bade906",
   "outputs": [
    {
     "name": "stdout",
     "output_type": "stream",
     "text": [
      "Mean Squared Error: 31083530666.670128\n",
      "R^2 Score: 0.7716759208808381\n"
     ]
    }
   ],
   "execution_count": 35
  }
 ],
 "metadata": {
  "kernelspec": {
   "display_name": "Python 3",
   "language": "python",
   "name": "python3"
  },
  "language_info": {
   "codemirror_mode": {
    "name": "ipython",
    "version": 2
   },
   "file_extension": ".py",
   "mimetype": "text/x-python",
   "name": "python",
   "nbconvert_exporter": "python",
   "pygments_lexer": "ipython2",
   "version": "2.7.6"
  }
 },
 "nbformat": 4,
 "nbformat_minor": 5
}
